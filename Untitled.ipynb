{
 "cells": [
  {
   "cell_type": "code",
   "execution_count": 2,
   "id": "1b4f5c25",
   "metadata": {},
   "outputs": [],
   "source": [
    "import mlflow\n",
    "import wandb\n",
    "import os"
   ]
  },
  {
   "cell_type": "code",
   "execution_count": null,
   "id": "6dbfacd6",
   "metadata": {},
   "outputs": [
    {
     "name": "stderr",
     "output_type": "stream",
     "text": [
      "\u001b[34m\u001b[1mwandb\u001b[0m: Currently logged in as: \u001b[33mktsui\u001b[0m. Use \u001b[1m`wandb login --relogin`\u001b[0m to force relogin\n"
     ]
    },
    {
     "data": {
      "application/vnd.jupyter.widget-view+json": {
       "model_id": "5c6d706214db4cdc99d6a8955297e199",
       "version_major": 2,
       "version_minor": 0
      },
      "text/plain": [
       "VBox(children=(Label(value='Waiting for wandb.init()...\\r'), FloatProgress(value=0.01691666666495924, max=1.0)…"
      ]
     },
     "metadata": {},
     "output_type": "display_data"
    },
    {
     "name": "stdout",
     "output_type": "stream",
     "text": [
      "Problem at: C:\\Users\\ktsui\\AppData\\Local\\Temp\\ipykernel_44968\\1720733467.py 2 <module>\n"
     ]
    },
    {
     "name": "stderr",
     "output_type": "stream",
     "text": [
      "Traceback (most recent call last):\n",
      "  File \"C:\\Users\\ktsui\\anaconda3\\envs\\nyc_airbnb_dev\\lib\\site-packages\\wandb\\sdk\\wandb_init.py\", line 1108, in init\n",
      "    run = wi.init()\n",
      "  File \"C:\\Users\\ktsui\\anaconda3\\envs\\nyc_airbnb_dev\\lib\\site-packages\\wandb\\sdk\\wandb_init.py\", line 713, in init\n",
      "    result = run_init_handle.wait(\n",
      "  File \"C:\\Users\\ktsui\\anaconda3\\envs\\nyc_airbnb_dev\\lib\\site-packages\\wandb\\sdk\\lib\\mailbox.py\", line 271, in wait\n",
      "    raise MailboxError(\"transport failed\")\n",
      "wandb.errors.MailboxError: transport failed\n",
      "\u001b[34m\u001b[1mwandb\u001b[0m: \u001b[32m\u001b[41mERROR\u001b[0m Abnormal program exit\n"
     ]
    }
   ],
   "source": [
    "# Set up W&B experiment\n",
    "wandb.init(project=\"nyc_airbnb_dev\", entity=\"ent1\")\n",
    "\n",
    "# Run your MLflow experiment\n",
    "mlflow.set_experiment(\"exp1\")\n",
    "with mlflow.start_run():\n",
    "    # Your experiment code goes here\n",
    "    \n",
    "    # After downloading the sample file to your working directory, log it as an artifact\n",
    "    sample_file_path = \"/components/get_data/data/sample1.csv\"  # Update with your file path\n",
    "    mlflow.log_artifact(sample_file_path)\n",
    "    \n",
    "# Close the W&B experiment\n",
    "wandb.finish()"
   ]
  },
  {
   "cell_type": "code",
   "execution_count": null,
   "id": "6f16e9ec",
   "metadata": {},
   "outputs": [],
   "source": []
  }
 ],
 "metadata": {
  "kernelspec": {
   "display_name": "Python 3 (ipykernel)",
   "language": "python",
   "name": "python3"
  },
  "language_info": {
   "codemirror_mode": {
    "name": "ipython",
    "version": 3
   },
   "file_extension": ".py",
   "mimetype": "text/x-python",
   "name": "python",
   "nbconvert_exporter": "python",
   "pygments_lexer": "ipython3",
   "version": "3.9.18"
  }
 },
 "nbformat": 4,
 "nbformat_minor": 5
}
